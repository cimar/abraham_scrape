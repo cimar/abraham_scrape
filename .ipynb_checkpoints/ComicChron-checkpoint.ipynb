{
 "cells": [
  {
   "cell_type": "code",
   "execution_count": 54,
   "metadata": {
    "collapsed": false
   },
   "outputs": [],
   "source": [
    "import requests\n",
    "from bs4 import BeautifulSoup\n",
    "\n",
    "#url = raw_input(\"Enter a website to extract the URL's from: \")\n",
    "#r  = requests.get(\"http://\" +url)\n",
    "#data = r.text\n",
    "#soup = BeautifulSoup(data)\n",
    "#for link in soup.find_all('a'):\n",
    "#    print(link.get('href'))"
   ]
  },
  {
   "cell_type": "code",
   "execution_count": 55,
   "metadata": {
    "collapsed": false
   },
   "outputs": [],
   "source": [
    "import datetime\n",
    "\n",
    "url_dir = []\n",
    "\n",
    "\n",
    "root = \"http://www.comichron.com/monthlycomicssales\"\n",
    "year = 1995\n",
    "while year < 2018:\n",
    "    year_str = str(year)\n",
    "    month = 1\n",
    "    month_cap = 13\n",
    "    if year == 2017:\n",
    "        month_cap = 9\n",
    "    while month < month_cap:\n",
    "        month_str = str(month)\n",
    "        if len(month_str) == 1:\n",
    "            month_str = '0'+month_str\n",
    "        if ((year < 1996) or ((year < 1997) and (month < 9))):\n",
    "            month_str = month_str+'Diamond'  \n",
    "        page = year_str+\"-\"+month_str+'.html'\n",
    "        address = root + '/' + year_str + '/' + page\n",
    "        date = datetime.date(year,month,1)\n",
    "        new_row = (date,address)\n",
    "        url_dir.append(new_row)\n",
    "        month = month +1\n",
    "    year = year +1"
   ]
  },
  {
   "cell_type": "code",
   "execution_count": 56,
   "metadata": {
    "collapsed": false
   },
   "outputs": [
    {
     "name": "stdout",
     "output_type": "stream",
     "text": [
      "(datetime.date(1995, 1, 1), 'http://www.comichron.com/monthlycomicssales/1995/1995-01Diamond.html')\n",
      "(datetime.date(1995, 2, 1), 'http://www.comichron.com/monthlycomicssales/1995/1995-02Diamond.html')\n",
      "(datetime.date(1995, 3, 1), 'http://www.comichron.com/monthlycomicssales/1995/1995-03Diamond.html')\n",
      "(datetime.date(1995, 4, 1), 'http://www.comichron.com/monthlycomicssales/1995/1995-04Diamond.html')\n",
      "(datetime.date(1995, 5, 1), 'http://www.comichron.com/monthlycomicssales/1995/1995-05Diamond.html')\n"
     ]
    }
   ],
   "source": [
    "for x in url_dir[0:5]:\n",
    "    print x"
   ]
  },
  {
   "cell_type": "code",
   "execution_count": 128,
   "metadata": {
    "collapsed": false
   },
   "outputs": [],
   "source": [
    "import requests\n",
    "import pandas as pd\n",
    "from bs4 import BeautifulSoup\n",
    "    \n",
    "class HTMLTableParser:\n",
    "    \n",
    "    def parse_url_share(self, url):\n",
    "        r  = requests.get(url)\n",
    "        data = r.text\n",
    "        soup = BeautifulSoup(data)\n",
    "        ta = soup.find(\"table\", { \"class\" : \"comichron-sharetable\" })\n",
    "        if ta is None:\n",
    "            ta = soup.find(\"table\", {\"style\" : \"width: 189px; height: 2707px;\"})\n",
    "            if ta is None:\n",
    "                ta = soup.find(\"table\", {\"style\" : \"height: 2707px; width: 189px;\"})\n",
    "                if ta is None:\n",
    "                    ta = soup.find(\"table\", {\"class\" : \"t1\"})\n",
    "                    if ta is None:\n",
    "                        return None\n",
    "        #print ta\n",
    "        return self.parse_html_table(ta)\n",
    "       \n",
    "    def parse_url(self, url):\n",
    "        r  = requests.get(url)\n",
    "        data = r.text\n",
    "        soup = BeautifulSoup(data)\n",
    "        table = soup.find( \"table\", {\"id\":\"Top300Comics\"} )\n",
    "        if table is None:\n",
    "            tables = soup.findAll(\"table\")\n",
    "            table = tables[1]\n",
    "        return self.parse_html_table(table)\n",
    "    \n",
    "    def parse_html_table(self, table):\n",
    "        n_columns = 0\n",
    "        n_rows=0\n",
    "        column_names = []\n",
    "    \n",
    "        # Find number of rows and columns\n",
    "        # we also find the column titles if we can\n",
    "        for row in table.find_all('tr'):\n",
    "            \n",
    "            # Determine the number of rows in the table\n",
    "            td_tags = row.find_all('td')\n",
    "            if len(td_tags) > 0:\n",
    "                n_rows+=1\n",
    "                if n_columns < len(td_tags):\n",
    "                    # Set the number of columns for our table\n",
    "                    n_columns = len(td_tags)\n",
    "                        \n",
    "            # Handle column names if we find them\n",
    "            th_tags = row.find_all('th') \n",
    "            if len(th_tags) > 0 and len(column_names) == 0:\n",
    "                for th in th_tags:\n",
    "                    column_names.append(th.get_text())\n",
    "    \n",
    "        # Safeguard on Column Titles\n",
    "        if len(column_names) > 0 and len(column_names) != n_columns:\n",
    "#            raise Exception(\"Column titles do not match the number of columns\")\n",
    "            print \"Mismatched cols and names\"\n",
    "            i = 0\n",
    "            while i < n_columns:\n",
    "                try:\n",
    "                    column_names[i]\n",
    "                except:\n",
    "                    column_names.append(\"\")\n",
    "                i = i+1\n",
    "    \n",
    "        columns = column_names if len(column_names) > 0 else range(0,n_columns)\n",
    "        \n",
    "        df = pd.DataFrame(columns=columns, index=range(0,n_rows))\n",
    "        row_marker = 0\n",
    "        for row in table.find_all('tr'):\n",
    "            column_marker = 0\n",
    "            columns = row.find_all('td')\n",
    "            for column in columns:\n",
    "                column_text = column.get_text()\n",
    "                df.iat[row_marker,column_marker] = column_text\n",
    "                column_marker += 1\n",
    "            if len(columns) > 0:\n",
    "                row_marker += 1\n",
    "        # Convert to float if possible\n",
    "        for col in df:\n",
    "            try:\n",
    "                df[col] = df[col].astype(float)\n",
    "            except ValueError:\n",
    "                pass\n",
    "        if not (len(column_names) > 0):\n",
    "            df.columns = df.iloc[0]\n",
    "            df = df.reindex(df.index.drop(0))\n",
    "        return df"
   ]
  },
  {
   "cell_type": "code",
   "execution_count": 129,
   "metadata": {
    "collapsed": false,
    "scrolled": true
   },
   "outputs": [
    {
     "name": "stdout",
     "output_type": "stream",
     "text": [
      "http://www.comichron.com/monthlycomicssales/2013/2013-05.html\n"
     ]
    }
   ],
   "source": [
    "hp = HTMLTableParser()\n",
    "print url_dir[220][1]\n",
    "hp.parse_url_share(url_dir[220][1])"
   ]
  },
  {
   "cell_type": "code",
   "execution_count": 2,
   "metadata": {
    "collapsed": true
   },
   "outputs": [],
   "source": [
    "import pickle\n",
    "\n",
    "def write_obj(obj,filename):\n",
    "    with open(filename, 'wb') as handle:\n",
    "        pickle.dump(obj, handle, protocol=pickle.HIGHEST_PROTOCOL)\n",
    "\n",
    "def load_obj(filename):\n",
    "    with open(filename, 'rb') as handle:\n",
    "        b = pickle.load(handle)\n",
    "        return b"
   ]
  },
  {
   "cell_type": "code",
   "execution_count": 49,
   "metadata": {
    "collapsed": false,
    "scrolled": true
   },
   "outputs": [
    {
     "name": "stdout",
     "output_type": "stream",
     "text": [
      "384\n",
      "                                                                  NaN\n",
      "\\n                                                                 49\n",
      "Comic-book Title       Star Wars Boba\\nFett: When the Fat Lady Swings\n",
      "Dollar sales                                                      NaN\n",
      "Dollars                                                           NaN\n",
      "Est. units                                                        NaN\n",
      "Issue                                                           $3.95\n",
      "Order Index                                                       NaN\n",
      "Price                                                      Dark Horse\n",
      "Publisher                                                      61,757\n",
      "Unit sales                                                        NaN\n",
      "Units                                                             NaN\n",
      "date                                                       1996-09-01\n",
      "url                 http://www.comichron.com/monthlycomicssales/19...\n",
      "Name: 6048, dtype: object\n",
      "                                                                  NaN\n",
      "\\n                                                                308\n",
      "Comic-book Title         Morbid Angel:\\nPenance Revised Color Special\n",
      "Dollar sales                                                      NaN\n",
      "Dollars                                                           NaN\n",
      "Est. units                                                        NaN\n",
      "Issue                                                           $3.95\n",
      "Order Index                                                       NaN\n",
      "Price                                                    London Night\n",
      "Publisher                                                       3,943\n",
      "Unit sales                                                        NaN\n",
      "Units                                                             NaN\n",
      "date                                                       1996-09-01\n",
      "url                 http://www.comichron.com/monthlycomicssales/19...\n",
      "Name: 6307, dtype: object\n",
      "                                                                  338\n",
      "\\n                                                                NaN\n",
      "Comic-book Title    Witchblade\\nCollected Ed. Vol. 4 w/Custom Slip...\n",
      "Dollar sales                                                      NaN\n",
      "Dollars                                                           NaN\n",
      "Est. units                                                        NaN\n",
      "Issue                                                          $10.95\n",
      "Order Index                                                       NaN\n",
      "Price                                                         Top Cow\n",
      "Publisher                                                       3,130\n",
      "Unit sales                                                        NaN\n",
      "Units                                                             NaN\n",
      "date                                                       1996-10-01\n",
      "url                 http://www.comichron.com/monthlycomicssales/19...\n",
      "Name: 6691, dtype: object\n",
      "                                                                    1\n",
      "\\n                                                                NaN\n",
      "Comic-book Title     Superman: The\\nWedding Album Collector's Edition\n",
      "Dollar sales                                                      NaN\n",
      "Dollars                                                           NaN\n",
      "Est. units                                                        NaN\n",
      "Issue                                                           $4.95\n",
      "Order Index                                                       NaN\n",
      "Price                                                              DC\n",
      "Publisher                                                     227,686\n",
      "Unit sales                                                        NaN\n",
      "Units                                                             NaN\n",
      "date                                                       1996-11-01\n",
      "url                 http://www.comichron.com/monthlycomicssales/19...\n",
      "Name: 6708, dtype: object\n",
      "                                                                   90\n",
      "\\n                                                                NaN\n",
      "Comic-book Title    Superman:\\nWedding Album Collector's Ed. Next Day\n",
      "Dollar sales                                                      NaN\n",
      "Dollars                                                           NaN\n",
      "Est. units                                                        NaN\n",
      "Issue                                                           $4.95\n",
      "Order Index                                                       NaN\n",
      "Price                                                              DC\n",
      "Publisher                                                      39,603\n",
      "Unit sales                                                        NaN\n",
      "Units                                                             NaN\n",
      "date                                                       1996-11-01\n",
      "url                 http://www.comichron.com/monthlycomicssales/19...\n",
      "Name: 6797, dtype: object\n",
      "                                                                  149\n",
      "\\n                                                                NaN\n",
      "Comic-book Title     Superman: The\\nWedding Album Collector's Edition\n",
      "Dollar sales                                                      NaN\n",
      "Dollars                                                           NaN\n",
      "Est. units                                                        NaN\n",
      "Issue                                                           $4.95\n",
      "Order Index                                                       NaN\n",
      "Price                                                              DC\n",
      "Publisher                                                      23,770\n",
      "Unit sales                                                        NaN\n",
      "Units                                                             NaN\n",
      "date                                                       1996-11-01\n",
      "url                 http://www.comichron.com/monthlycomicssales/19...\n",
      "Name: 6856, dtype: object\n",
      "                                                                  295\n",
      "\\n                                                                NaN\n",
      "Comic-book Title    Luxura &\\nWidow: Bloodlust Omega Part II Nude ...\n",
      "Dollar sales                                                      NaN\n",
      "Dollars                                                           NaN\n",
      "Est. units                                                        NaN\n",
      "Issue                                                           $2.95\n",
      "Order Index                                                       NaN\n",
      "Price                                                      Brainstorm\n",
      "Publisher                                                       4,988\n",
      "Unit sales                                                        NaN\n",
      "Units                                                             NaN\n",
      "date                                                       1996-11-01\n",
      "url                 http://www.comichron.com/monthlycomicssales/19...\n",
      "Name: 7002, dtype: object\n",
      "                                                                  169\n",
      "\\n                                                                NaN\n",
      "Comic-book Title    Superman:\\nWhatever Happened to the Man of Tom...\n",
      "Dollar sales                                                      NaN\n",
      "Dollars                                                           NaN\n",
      "Est. units                                                        NaN\n",
      "Issue                                                           $5.95\n",
      "Order Index                                                       NaN\n",
      "Price                                                              DC\n",
      "Publisher                                                      20,406\n",
      "Unit sales                                                        NaN\n",
      "Units                                                             NaN\n",
      "date                                                       1996-12-01\n",
      "url                 http://www.comichron.com/monthlycomicssales/19...\n",
      "Name: 7244, dtype: object\n",
      "                                                                  351\n",
      "\\n                                                                NaN\n",
      "Comic-book Title    Romeo &\\nJuliet by William Shakespeare Study G...\n",
      "Dollar sales                                                      NaN\n",
      "Dollars                                                           NaN\n",
      "Est. units                                                        NaN\n",
      "Issue                                                           $4.99\n",
      "Order Index                                                       NaN\n",
      "Price                                                         Acclaim\n",
      "Publisher                                                       2,890\n",
      "Unit sales                                                        NaN\n",
      "Units                                                             NaN\n",
      "date                                                       1996-12-01\n",
      "url                 http://www.comichron.com/monthlycomicssales/19...\n",
      "Name: 7426, dtype: object\n",
      "                                                                  357\n",
      "\\n                                                                NaN\n",
      "Comic-book Title    Tale of Two\\nCities by Charles Dickens Study G...\n",
      "Dollar sales                                                      NaN\n",
      "Dollars                                                           NaN\n",
      "Est. units                                                        NaN\n",
      "Issue                                                           $4.99\n",
      "Order Index                                                       NaN\n",
      "Price                                                         Acclaim\n",
      "Publisher                                                       2,792\n",
      "Unit sales                                                        NaN\n",
      "Units                                                             NaN\n",
      "date                                                       1996-12-01\n",
      "url                 http://www.comichron.com/monthlycomicssales/19...\n",
      "Name: 7432, dtype: object\n"
     ]
    }
   ],
   "source": [
    "import pandas\n",
    "import numpy as np\n",
    "\n",
    "e = master_df[\"Order Index\"]\n",
    "e[e>0]\n",
    "\n",
    "partial_df = master_df.truncate(before=6000)\n",
    "\n",
    "index = partial_df['Est. units'].index[partial_df['Est. units'].isnull()]\n",
    "index\n",
    "print len(index)\n",
    "for x in index[0:10]:\n",
    "    print master_df.iloc[x]\n",
    "#partial_df = master_df.drop(['Dollar sales','Dollars','Unit sales','Units'],inplace=False,axis=1,errors='ignore')\n",
    "#partial_df.describe()"
   ]
  },
  {
   "cell_type": "code",
   "execution_count": 58,
   "metadata": {
    "collapsed": false,
    "scrolled": true
   },
   "outputs": [
    {
     "name": "stderr",
     "output_type": "stream",
     "text": [
      "/usr/local/lib/python2.7/dist-packages/bs4/__init__.py:181: UserWarning: No parser was explicitly specified, so I'm using the best available HTML parser for this system (\"lxml\"). This usually isn't a problem, but if you run this code on another system, or in a different virtual environment, it may use a different parser and behave differently.\n",
      "\n",
      "The code that caused this warning is on line 162 of the file /usr/lib/python2.7/runpy.py. To get rid of this warning, change code that looks like this:\n",
      "\n",
      " BeautifulSoup([your markup])\n",
      "\n",
      "to this:\n",
      "\n",
      " BeautifulSoup([your markup], \"lxml\")\n",
      "\n",
      "  markup_type=markup_type))\n"
     ]
    },
    {
     "name": "stdout",
     "output_type": "stream",
     "text": [
      "(datetime.date(1997, 1, 1), 'http://www.comichron.com/monthlycomicssales/1997/1997-01.html')\n",
      "(datetime.date(1997, 2, 1), 'http://www.comichron.com/monthlycomicssales/1997/1997-02.html')\n",
      "(datetime.date(1997, 3, 1), 'http://www.comichron.com/monthlycomicssales/1997/1997-03.html')\n",
      "(datetime.date(1997, 12, 1), 'http://www.comichron.com/monthlycomicssales/1997/1997-12.html')\n",
      "(datetime.date(1998, 4, 1), 'http://www.comichron.com/monthlycomicssales/1998/1998-04.html')\n",
      "(datetime.date(2002, 10, 1), 'http://www.comichron.com/monthlycomicssales/2002/2002-10.html')\n",
      "93\n",
      "(datetime.date(2007, 12, 1), 'http://www.comichron.com/monthlycomicssales/2007/2007-12.html')\n",
      "(datetime.date(2015, 1, 1), 'http://www.comichron.com/monthlycomicssales/2015/2015-01.html')\n",
      "(datetime.date(2015, 2, 1), 'http://www.comichron.com/monthlycomicssales/2015/2015-02.html')\n",
      "(datetime.date(2015, 3, 1), 'http://www.comichron.com/monthlycomicssales/2015/2015-03.html')\n",
      "(datetime.date(2015, 4, 1), 'http://www.comichron.com/monthlycomicssales/2015/2015-04.html')\n",
      "(datetime.date(2015, 5, 1), 'http://www.comichron.com/monthlycomicssales/2015/2015-05.html')\n",
      "(datetime.date(2015, 6, 1), 'http://www.comichron.com/monthlycomicssales/2015/2015-06.html')\n",
      "(datetime.date(2015, 7, 1), 'http://www.comichron.com/monthlycomicssales/2015/2015-07.html')\n",
      "(datetime.date(2015, 8, 1), 'http://www.comichron.com/monthlycomicssales/2015/2015-08.html')\n",
      "(datetime.date(2015, 9, 1), 'http://www.comichron.com/monthlycomicssales/2015/2015-09.html')\n",
      "(datetime.date(2015, 10, 1), 'http://www.comichron.com/monthlycomicssales/2015/2015-10.html')\n",
      "(datetime.date(2015, 11, 1), 'http://www.comichron.com/monthlycomicssales/2015/2015-11.html')\n",
      "(datetime.date(2015, 12, 1), 'http://www.comichron.com/monthlycomicssales/2015/2015-12.html')\n",
      "(datetime.date(2016, 1, 1), 'http://www.comichron.com/monthlycomicssales/2016/2016-01.html')\n",
      "(datetime.date(2016, 2, 1), 'http://www.comichron.com/monthlycomicssales/2016/2016-02.html')\n",
      "(datetime.date(2016, 3, 1), 'http://www.comichron.com/monthlycomicssales/2016/2016-03.html')\n",
      "(datetime.date(2016, 4, 1), 'http://www.comichron.com/monthlycomicssales/2016/2016-04.html')\n",
      "(datetime.date(2016, 5, 1), 'http://www.comichron.com/monthlycomicssales/2016/2016-05.html')\n",
      "(datetime.date(2016, 6, 1), 'http://www.comichron.com/monthlycomicssales/2016/2016-06.html')\n",
      "(datetime.date(2016, 7, 1), 'http://www.comichron.com/monthlycomicssales/2016/2016-07.html')\n",
      "(datetime.date(2016, 8, 1), 'http://www.comichron.com/monthlycomicssales/2016/2016-08.html')\n",
      "(datetime.date(2016, 9, 1), 'http://www.comichron.com/monthlycomicssales/2016/2016-09.html')\n",
      "(datetime.date(2016, 10, 1), 'http://www.comichron.com/monthlycomicssales/2016/2016-10.html')\n",
      "(datetime.date(2016, 11, 1), 'http://www.comichron.com/monthlycomicssales/2016/2016-11.html')\n",
      "(datetime.date(2016, 12, 1), 'http://www.comichron.com/monthlycomicssales/2016/2016-12.html')\n",
      "(datetime.date(2017, 1, 1), 'http://www.comichron.com/monthlycomicssales/2017/2017-01.html')\n",
      "(datetime.date(2017, 2, 1), 'http://www.comichron.com/monthlycomicssales/2017/2017-02.html')\n",
      "(datetime.date(2017, 3, 1), 'http://www.comichron.com/monthlycomicssales/2017/2017-03.html')\n",
      "(datetime.date(2017, 4, 1), 'http://www.comichron.com/monthlycomicssales/2017/2017-04.html')\n",
      "(datetime.date(2017, 5, 1), 'http://www.comichron.com/monthlycomicssales/2017/2017-05.html')\n",
      "(datetime.date(2017, 6, 1), 'http://www.comichron.com/monthlycomicssales/2017/2017-06.html')\n",
      "(datetime.date(2017, 7, 1), 'http://www.comichron.com/monthlycomicssales/2017/2017-07.html')\n",
      "(datetime.date(2017, 8, 1), 'http://www.comichron.com/monthlycomicssales/2017/2017-08.html')\n",
      "271\n"
     ]
    }
   ],
   "source": [
    "hp = HTMLTableParser()\n",
    "\n",
    "def filter_out_2nd_table(df):\n",
    "    title_col = \"Comic-book Title\"\n",
    "    if title_col not in df.columns:\n",
    "        title_col = \"Comic-book\\nTitle\"\n",
    "    p = df[title_col]\n",
    "    i = p[p==\"\\n\"]\n",
    "    if len(i) > 0:\n",
    "        i = i.index[0]\n",
    "        return df.truncate(after=(i-1))\n",
    "    else:\n",
    "        i = p[p==\"\"]\n",
    "        if len(i) > 0:\n",
    "            i = i.index[0]\n",
    "            return df.truncate(after=(i-1))\n",
    "        else:\n",
    "            i = df[df[title_col].str.contains(\"Trade Paperback\")]\n",
    "            if len(i)>0:    \n",
    "                i = i.index[0]\n",
    "                return df.truncate(after=(i-1))\n",
    "            else:\n",
    "                return df\n",
    "        \n",
    "def get_comic_data(d_u):\n",
    "    table = hp.parse_url(d_u[1]) # Grabbing the table from the tuple\n",
    "    new_table = filter_out_2nd_table(table)\n",
    "    if len(new_table) == len(table):\n",
    "        print d_u\n",
    "    new_table[\"date\"] = d_u[0]\n",
    "    new_table[\"url\"] = d_u[1]\n",
    "    return new_table\n",
    "\n",
    "#t = hp.parse_url(url_dir[24][1])\n",
    "#filter_out_2nd_table(t)\n"
   ]
  },
  {
   "cell_type": "raw",
   "metadata": {},
   "source": [
    "manual = []\n",
    "master_df = get_comic_data(url_dir[0])\n",
    "i = 1\n",
    "for date_url in url_dir[1:]:\n",
    "    try:\n",
    "        comics_df = get_comic_data(date_url)\n",
    "        if \"Comic-book\\nTitle\" in comics_df.columns:\n",
    "            comics_df = comics_df.rename(columns = {\"Comic-book\\nTitle\":\"Comic-book Title\"})            \n",
    "        if (\"Order Index\" not in comics_df.columns) and (\"Est. units\" not in comics_df.columns):\n",
    "            comic_index = numpy.where(comics_df.columns.values == \"Comic-book Title\")[0][0]\n",
    "            alt_head = comics_df.columns.values[comic_index+4]\n",
    "            comics_df = comics_df.rename(columns = {alt_head:\"Est. units\"})\n",
    "        master_df = pd.concat([master_df,comics_df],ignore_index=True)\n",
    "    except:\n",
    "        manual.append(date_url)\n",
    "        print date_url\n",
    "        print i\n",
    "    i = i+1\n",
    "    \n",
    "#write_obj(master_df,\"top300.pickle\")"
   ]
  },
  {
   "cell_type": "code",
   "execution_count": 59,
   "metadata": {
    "collapsed": false
   },
   "outputs": [
    {
     "name": "stdout",
     "output_type": "stream",
     "text": [
      "[(datetime.date(2002, 10, 1), 'http://www.comichron.com/monthlycomicssales/2002/2002-10.html'), (datetime.date(2017, 8, 1), 'http://www.comichron.com/monthlycomicssales/2017/2017-08.html')]\n"
     ]
    }
   ],
   "source": [
    "#master_df = load_obj(\"top300.pickle\")\n",
    "#master_df.to_csv(\"top300.csv\", encoding='utf-8')\n",
    "print manual"
   ]
  },
  {
   "cell_type": "code",
   "execution_count": 19,
   "metadata": {
    "collapsed": false
   },
   "outputs": [
    {
     "data": {
      "text/plain": [
       "82349"
      ]
     },
     "execution_count": 19,
     "metadata": {},
     "output_type": "execute_result"
    }
   ],
   "source": [
    "76354+5995"
   ]
  },
  {
   "cell_type": "code",
   "execution_count": 143,
   "metadata": {
    "collapsed": false
   },
   "outputs": [
    {
     "name": "stdout",
     "output_type": "stream",
     "text": [
      "(datetime.date(1998, 4, 1), 'http://www.comichron.com/monthlycomicssales/1998/1998-04.html')\n",
      "(datetime.date(1998, 4, 1), 'http://www.comichron.com/monthlycomicssales/1998/1998-04.html')\n",
      "2\n"
     ]
    },
    {
     "data": {
      "text/plain": [
       "u'Est. units'"
      ]
     },
     "execution_count": 143,
     "metadata": {},
     "output_type": "execute_result"
    }
   ],
   "source": [
    "import numpy\n",
    "other_df = get_comic_data(url_dir[39])\n",
    "print url_dir[39]\n",
    "n = numpy.where(other_df.columns.values == \"Comic-book Title\")\n",
    "print n[0][0]\n",
    "other_df.columns.values[n[0][0]+4]"
   ]
  },
  {
   "cell_type": "code",
   "execution_count": 103,
   "metadata": {
    "collapsed": false
   },
   "outputs": [
    {
     "data": {
      "text/plain": [
       "'http://www.comichron.com/monthlycomicssales/1998/1998-04.html'"
      ]
     },
     "execution_count": 103,
     "metadata": {},
     "output_type": "execute_result"
    }
   ],
   "source": [
    "master_df.iloc[12068][\"url\"]"
   ]
  },
  {
   "cell_type": "code",
   "execution_count": 4,
   "metadata": {
    "collapsed": true
   },
   "outputs": [],
   "source": [
    "import pandas\n",
    "master_df.to_csv(\"top300.csv\")"
   ]
  },
  {
   "cell_type": "code",
   "execution_count": 12,
   "metadata": {
    "collapsed": false
   },
   "outputs": [
    {
     "name": "stdout",
     "output_type": "stream",
     "text": [
      "http://www.comichron.com/monthlycomicssales/2017/2017-05.html\n"
     ]
    },
    {
     "data": {
      "text/plain": [
       "0\n",
       "\\n                                                                169\n",
       "Comic-book Title                      Wolverine And Black Cat Claws 2\n",
       "Issue                                                               3\n",
       "Price                                                           $3.99\n",
       "Publisher                                                      Marvel\n",
       "Est. sales                                                     11,174\n",
       "date                                                       2017-05-01\n",
       "url                 http://www.comichron.com/monthlycomicssales/20...\n",
       "Name: 87000, dtype: object"
      ]
     },
     "execution_count": 12,
     "metadata": {},
     "output_type": "execute_result"
    }
   ],
   "source": [
    "print master_df[\"url\"].iloc[87000]\n",
    "\n",
    "master_df.iloc[87000]"
   ]
  },
  {
   "cell_type": "code",
   "execution_count": 13,
   "metadata": {
    "collapsed": false
   },
   "outputs": [
    {
     "data": {
      "text/html": [
       "<div>\n",
       "<table border=\"1\" class=\"dataframe\">\n",
       "  <thead>\n",
       "    <tr style=\"text-align: right;\">\n",
       "      <th></th>\n",
       "      <th></th>\n",
       "      <th>Comic-book Title</th>\n",
       "      <th>Issue</th>\n",
       "      <th>Price</th>\n",
       "      <th>Publisher</th>\n",
       "      <th>Est. sales</th>\n",
       "      <th>date</th>\n",
       "      <th>url</th>\n",
       "    </tr>\n",
       "  </thead>\n",
       "  <tbody>\n",
       "    <tr>\n",
       "      <th>count</th>\n",
       "      <td>88128</td>\n",
       "      <td>88128</td>\n",
       "      <td>88128</td>\n",
       "      <td>88128</td>\n",
       "      <td>88128</td>\n",
       "      <td>88128</td>\n",
       "      <td>88128</td>\n",
       "      <td>88128</td>\n",
       "    </tr>\n",
       "    <tr>\n",
       "      <th>unique</th>\n",
       "      <td>324</td>\n",
       "      <td>294</td>\n",
       "      <td>83</td>\n",
       "      <td>13</td>\n",
       "      <td>26</td>\n",
       "      <td>323</td>\n",
       "      <td>272</td>\n",
       "      <td>272</td>\n",
       "    </tr>\n",
       "    <tr>\n",
       "      <th>top</th>\n",
       "      <td>118</td>\n",
       "      <td>Walking Dead Weekly</td>\n",
       "      <td>1</td>\n",
       "      <td>$2.99</td>\n",
       "      <td>Marvel</td>\n",
       "      <td>3,973</td>\n",
       "      <td>1997-10-01</td>\n",
       "      <td>http://www.comichron.com/monthlycomicssales/20...</td>\n",
       "    </tr>\n",
       "    <tr>\n",
       "      <th>freq</th>\n",
       "      <td>272</td>\n",
       "      <td>1088</td>\n",
       "      <td>12512</td>\n",
       "      <td>41888</td>\n",
       "      <td>28288</td>\n",
       "      <td>544</td>\n",
       "      <td>324</td>\n",
       "      <td>324</td>\n",
       "    </tr>\n",
       "  </tbody>\n",
       "</table>\n",
       "</div>"
      ],
      "text/plain": [
       "0          \\n     Comic-book Title  Issue  Price Publisher Est. sales  \\\n",
       "count   88128                88128  88128  88128     88128      88128   \n",
       "unique    324                  294     83     13        26        323   \n",
       "top       118  Walking Dead Weekly      1  $2.99    Marvel      3,973   \n",
       "freq      272                 1088  12512  41888     28288        544   \n",
       "\n",
       "0             date                                                url  \n",
       "count        88128                                              88128  \n",
       "unique         272                                                272  \n",
       "top     1997-10-01  http://www.comichron.com/monthlycomicssales/20...  \n",
       "freq           324                                                324  "
      ]
     },
     "execution_count": 13,
     "metadata": {},
     "output_type": "execute_result"
    }
   ],
   "source": [
    "master_df.describe()"
   ]
  },
  {
   "cell_type": "code",
   "execution_count": null,
   "metadata": {
    "collapsed": true
   },
   "outputs": [],
   "source": []
  }
 ],
 "metadata": {
  "kernelspec": {
   "display_name": "Python 2",
   "language": "python",
   "name": "python2"
  },
  "language_info": {
   "codemirror_mode": {
    "name": "ipython",
    "version": 2
   },
   "file_extension": ".py",
   "mimetype": "text/x-python",
   "name": "python",
   "nbconvert_exporter": "python",
   "pygments_lexer": "ipython2",
   "version": "2.7.6"
  }
 },
 "nbformat": 4,
 "nbformat_minor": 2
}
